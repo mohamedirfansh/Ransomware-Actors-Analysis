{
 "cells": [
  {
   "cell_type": "code",
   "execution_count": 256,
   "id": "f1c41376",
   "metadata": {},
   "outputs": [],
   "source": [
    "import pandas as pd"
   ]
  },
  {
   "cell_type": "code",
   "execution_count": 257,
   "id": "aed4b862",
   "metadata": {},
   "outputs": [],
   "source": [
    "df=pd.read_csv(\"ransomware_combined_utf8.csv\")"
   ]
  },
  {
   "cell_type": "code",
   "execution_count": 258,
   "id": "2cd3bc32",
   "metadata": {},
   "outputs": [],
   "source": [
    "df.drop(columns=df.columns[0], axis=1, inplace=True)"
   ]
  },
  {
   "cell_type": "code",
   "execution_count": 261,
   "id": "4338cbd2",
   "metadata": {},
   "outputs": [
    {
     "data": {
      "text/plain": [
       "array(['Public Service', 'Manufacturing',\n",
       "       'Advertising, Marketing & Public Relations', 'Business Services',\n",
       "       'Regional Agencies', 'Information Technology',\n",
       "       'Law Firms & Legal Services', 'Education', 'Transportation',\n",
       "       'Agriculture', 'Financial Services',\n",
       "       'Internet & Telecommunication Services', 'Energy & Utilities',\n",
       "       'Construction', 'Food & Beverages', 'Hospitality & Tourism',\n",
       "       'Airlines, Airports & Air Services', 'Event Services',\n",
       "       'Engineering',\n",
       "       'Community, Social Services & Non-Profit Organisations',\n",
       "       'Healthcare Services', 'Wholesale & Retail', 'Automotive',\n",
       "       'Aerospace & Defence', 'Consumer Services', 'Automobile Dealers',\n",
       "       'Shipping & Logistics', 'Gambling & Betting', 'Broadcasting',\n",
       "       'Gambling & Gaming', 'Real Estate', 'Local', 'Electronics',\n",
       "       'Aerospace & Defense', 'Membership Organizations', 'Mining',\n",
       "       'Tile Industry'], dtype=object)"
      ]
     },
     "execution_count": 261,
     "metadata": {},
     "output_type": "execute_result"
    }
   ],
   "source": [
    "df[\"Industry\"].unique()"
   ]
  },
  {
   "cell_type": "code",
   "execution_count": 266,
   "id": "84e9fe18",
   "metadata": {},
   "outputs": [],
   "source": [
    "for index, row in df.iterrows():\n",
    "    if \"Manufacturing\" in row[\"Industry\"] or \"Machinery\" in row[\"Industry\"] or \"Materials\" in row[\"Industry\"]:\n",
    "        row[\"Industry\"] = \"Manufacturing\"\n",
    "    elif \"Construction\" in row[\"Industry\"]:\n",
    "        row[\"Industry\"] = \"Construction\"\n",
    "    elif \"Consumer\" in row[\"Industry\"] or \"Fitness\" in row[\"Industry\"] or \"Recreation\" in row[\"Industry\"]:\n",
    "        row[\"Industry\"] = \"Consumer Services\"\n",
    "    elif \"Technology\" in row[\"Industry\"] or \"Software\" in row[\"Industry\"] or \"Computer\" in row[\"Industry\"]:\n",
    "        row[\"Industry\"] = \"Information Technology\"\n",
    "    elif \"Law\" in row[\"Industry\"] or \"Legal\" in row[\"Industry\"]:\n",
    "        row[\"Industry\"] = \"Law Firms & Legal Services\"\n",
    "    elif \"Business\" in row[\"Industry\"] or \"HR\" in row[\"Industry\"] or \"Commercial\" in row[\"Industry\"] or \"Event\" in row[\"Industry\"]:\n",
    "        row[\"Industry\"] = \"Business Services\"\n",
    "    elif \"Banking\" in row[\"Industry\"] or \"Finance\" in row[\"Industry\"] or \"Accounting\" in row[\"Industry\"] or \"Investment\" in row[\"Industry\"] or \"Financial\" in row[\"Industry\"] or \"Insurance\" in row[\"Industry\"] or \"Stock\" in row[\"Industry\"]:\n",
    "        row[\"Industry\"] = \"Financial Services\"\n",
    "    elif \"Education\" in row[\"Industry\"]or \"School\" in row[\"Industry\"] or \"Schools\" in row[\"Industry\"] or \"University\" in row[\"Industry\"] or \"Universities\" in row[\"Industry\"] or \"College\" in row[\"Industry\"] or \"Preschools\" in row[\"Industry\"]:\n",
    "        row[\"Industry\"] = \"Education\"\n",
    "    elif \"Grocery\" in row[\"Industry\"] or \"Goods\" in row[\"Industry\"] or \"Store\" in row[\"Industry\"] or \"Retail\" in row[\"Industry\"] or \"Beauty\" in row[\"Industry\"] or \"Furniture\" in row[\"Industry\"] or \"Wholesale\" in row[\"Industry\"]:\n",
    "        row[\"Industry\"] = \"Wholesale & Retail\"\n",
    "    elif \"Advertising\" in row[\"Industry\"] or \"Public Relations\" in row[\"Industry\"] or \"Marketing\" in row[\"Industry\"]:\n",
    "        row[\"Industry\"] = \"Advertising, Marketing & Public Relations\"\n",
    "    elif \"Government\" in row[\"Industry\"] or \"National\" in row[\"Industry\"] or \"Municipal\" in row[\"Industry\"] or \"Federal\" in row[\"Industry\"]:\n",
    "        row[\"Industry\"] = \"Public Service\"\n",
    "    elif \"Tele\" in row[\"Industry\"] or \"Internet\" in row[\"Industry\"] or \"Web\" in row[\"Industry\"]:\n",
    "        row[\"Industry\"] = \"Internet & Telecommunication Services\"\n",
    "    elif \"Clinic\" in row[\"Industry\"] or \"Healthcare\" in row[\"Industry\"]:\n",
    "        row[\"Industry\"] = \"Healthcare Services\"\n",
    "    elif \"Social\" in row[\"Industry\"] or \"Non-Profit\" in row[\"Industry\"] or \"Religious\" in row[\"Industry\"]:\n",
    "        row[\"Industry\"] = \"Community, Social Services & Non-Profit Organisations\"\n",
    "    elif \"Hotel\" in row[\"Industry\"] or \"Tourism\" in row[\"Industry\"] or \"Hospitality\" in row[\"Industry\"] or \"Travel\" in row[\"Industry\"]:\n",
    "        row[\"Industry\"] = \"Hospitality & Tourism\"\n",
    "    elif \"Restaurant\" in row[\"Industry\"] or \"Food\" in row[\"Industry\"]:\n",
    "        row[\"Industry\"] = \"Food & Beverages\"\n",
    "    elif \"Energy\" in row[\"Industry\"] or \"Utilities\" in row[\"Industry\"] or \"Oil\" in row[\"Industry\"]:\n",
    "        row[\"Industry\"] = \"Energy & Utilities\"\n",
    "    elif \"Shipping\" in row[\"Industry\"] or \"Logistics\" in row[\"Industry\"]:\n",
    "        row[\"Industry\"] = \"Shipping & Logistics\"\n",
    "    elif \"Automotive\" in row[\"Industry\"] or \"Motor\" in row[\"Industry\"] or \"Automobile\" in row[\"Industry\"]:\n",
    "        row[\"Industry\"] = \"Automotive\"\n",
    "    elif \"Transport\" in row[\"Industry\"] or \"Car\" in row[\"Industry\"]:\n",
    "        row[\"Industry\"] = \"Transportation\"\n",
    "    elif \"Farm\" in row[\"Industry\"] or \"Agriculture\" in row[\"Industry\"] or \"Crop\" in row[\"Industry\"] or \"Animal\" in row[\"Industry\"]:\n",
    "        row[\"Industry\"] = \"Agriculture\"\n",
    "    elif \"Engineering\" in row[\"Industry\"] or \"Electronics\" in row[\"Industry\"] or \"Bio\" in row[\"Industry\"] or \"Chemical\" in row[\"Industry\"] or \"Chemical\" in row[\"Industry\"] or \"Pharmaceuticals\" in row[\"Industry\"]:\n",
    "        row[\"Industry\"] = \"Engineering\"\n",
    "    elif \"Broadcasting\" in row[\"Industry\"]:\n",
    "        row[\"Industry\"] = \"Broadcasting\"\n",
    "    elif \"Mining\" in row[\"Industry\"]:\n",
    "        row[\"Industry\"] = \"Mining\"\n",
    "    elif \"Aerospace\" in row[\"Industry\"] or \"Airline\" in row[\"Industry\"]:\n",
    "        row[\"Industry\"] = \"Aerospace\"\n",
    "    elif \"Gambling\" in row[\"Industry\"] or \"Tile\" in row[\"Industry\"] or \"Membership\" in row[\"Industry\"] or \"Local\" in row[\"Industry\"] or \"Local\" in row[\"Industry\"] or \"Regional\" in row[\"Industry\"]:\n",
    "        row[\"Industry\"] = \"Others\""
   ]
  },
  {
   "cell_type": "code",
   "execution_count": 267,
   "id": "0fba5315",
   "metadata": {},
   "outputs": [
    {
     "data": {
      "text/plain": [
       "27"
      ]
     },
     "execution_count": 267,
     "metadata": {},
     "output_type": "execute_result"
    }
   ],
   "source": [
    "df[\"Industry\"].nunique()"
   ]
  },
  {
   "cell_type": "code",
   "execution_count": 208,
   "id": "6b9fc50c",
   "metadata": {},
   "outputs": [
    {
     "data": {
      "text/html": [
       "<div>\n",
       "<style scoped>\n",
       "    .dataframe tbody tr th:only-of-type {\n",
       "        vertical-align: middle;\n",
       "    }\n",
       "\n",
       "    .dataframe tbody tr th {\n",
       "        vertical-align: top;\n",
       "    }\n",
       "\n",
       "    .dataframe thead th {\n",
       "        text-align: right;\n",
       "    }\n",
       "</style>\n",
       "<table border=\"1\" class=\"dataframe\">\n",
       "  <thead>\n",
       "    <tr style=\"text-align: right;\">\n",
       "      <th></th>\n",
       "      <th>Company Name</th>\n",
       "      <th>Industry</th>\n",
       "      <th>Description</th>\n",
       "      <th>Post Date</th>\n",
       "      <th>Post Views</th>\n",
       "      <th>Country</th>\n",
       "      <th>Ransomware Group</th>\n",
       "    </tr>\n",
       "  </thead>\n",
       "  <tbody>\n",
       "    <tr>\n",
       "      <th>30</th>\n",
       "      <td>Delon Hampton &amp; Associates, Chartered</td>\n",
       "      <td>Engineering</td>\n",
       "      <td>In January 1973, Delon Hampton and Associates,...</td>\n",
       "      <td>Jul-22</td>\n",
       "      <td>60,500</td>\n",
       "      <td>United States</td>\n",
       "      <td>Quantum</td>\n",
       "    </tr>\n",
       "    <tr>\n",
       "      <th>36</th>\n",
       "      <td>Grosvenor Engineering Group</td>\n",
       "      <td>Engineering</td>\n",
       "      <td>Building services partner in Australia and New...</td>\n",
       "      <td>Apr-22</td>\n",
       "      <td>162,400</td>\n",
       "      <td>Australia</td>\n",
       "      <td>Quantum</td>\n",
       "    </tr>\n",
       "    <tr>\n",
       "      <th>47</th>\n",
       "      <td>HEMERIA</td>\n",
       "      <td>Engineering</td>\n",
       "      <td>At HEMERIA, we design and manufacture high-dep...</td>\n",
       "      <td>Jun-22</td>\n",
       "      <td>192,516</td>\n",
       "      <td>France</td>\n",
       "      <td>Snatch</td>\n",
       "    </tr>\n",
       "    <tr>\n",
       "      <th>55</th>\n",
       "      <td>Thomson Broadbent</td>\n",
       "      <td>Engineering</td>\n",
       "      <td>Thomson Broadbent provides high quality advice...</td>\n",
       "      <td>May-22</td>\n",
       "      <td>222,602</td>\n",
       "      <td>United States</td>\n",
       "      <td>Snatch</td>\n",
       "    </tr>\n",
       "    <tr>\n",
       "      <th>210</th>\n",
       "      <td>JT Engineering</td>\n",
       "      <td>Engineering</td>\n",
       "      <td>At JT Engineering, client satisfaction is our ...</td>\n",
       "      <td>Sep-22</td>\n",
       "      <td>1737</td>\n",
       "      <td>United States</td>\n",
       "      <td>LockBit</td>\n",
       "    </tr>\n",
       "    <tr>\n",
       "      <th>320</th>\n",
       "      <td>Perteet</td>\n",
       "      <td>Engineering</td>\n",
       "      <td>Talent, innovation, and hard work. For over 33...</td>\n",
       "      <td>Sep-22</td>\n",
       "      <td>4230</td>\n",
       "      <td>United States</td>\n",
       "      <td>LockBit</td>\n",
       "    </tr>\n",
       "  </tbody>\n",
       "</table>\n",
       "</div>"
      ],
      "text/plain": [
       "                              Company Name     Industry  \\\n",
       "30   Delon Hampton & Associates, Chartered  Engineering   \n",
       "36             Grosvenor Engineering Group  Engineering   \n",
       "47                                 HEMERIA  Engineering   \n",
       "55                       Thomson Broadbent  Engineering   \n",
       "210                         JT Engineering  Engineering   \n",
       "320                                Perteet  Engineering   \n",
       "\n",
       "                                           Description Post Date Post Views  \\\n",
       "30   In January 1973, Delon Hampton and Associates,...    Jul-22     60,500   \n",
       "36   Building services partner in Australia and New...    Apr-22    162,400   \n",
       "47   At HEMERIA, we design and manufacture high-dep...    Jun-22    192,516   \n",
       "55   Thomson Broadbent provides high quality advice...    May-22    222,602   \n",
       "210  At JT Engineering, client satisfaction is our ...    Sep-22       1737   \n",
       "320  Talent, innovation, and hard work. For over 33...    Sep-22       4230   \n",
       "\n",
       "           Country Ransomware Group  \n",
       "30   United States          Quantum  \n",
       "36       Australia          Quantum  \n",
       "47          France           Snatch  \n",
       "55   United States           Snatch  \n",
       "210  United States          LockBit  \n",
       "320  United States          LockBit  "
      ]
     },
     "execution_count": 208,
     "metadata": {},
     "output_type": "execute_result"
    }
   ],
   "source": [
    "df[df[\"Industry\"].str.contains(\"Engineering\")].head(50)"
   ]
  },
  {
   "cell_type": "code",
   "execution_count": 268,
   "id": "2e10ba94",
   "metadata": {},
   "outputs": [
    {
     "data": {
      "text/plain": [
       "Manufacturing                                            58\n",
       "Business Services                                        32\n",
       "Construction                                             30\n",
       "Information Technology                                   30\n",
       "Wholesale & Retail                                       24\n",
       "Financial Services                                       23\n",
       "Law Firms & Legal Services                               16\n",
       "Hospitality & Tourism                                    15\n",
       "Education                                                15\n",
       "Healthcare Services                                      14\n",
       "Engineering                                              13\n",
       "Consumer Services                                        12\n",
       "Internet & Telecommunication Services                    12\n",
       "Energy & Utilities                                       11\n",
       "Public Service                                           10\n",
       "Others                                                    7\n",
       "Advertising, Marketing & Public Relations                 7\n",
       "Community, Social Services & Non-Profit Organisations     6\n",
       "Agriculture                                               5\n",
       "Automotive                                                5\n",
       "Shipping & Logistics                                      5\n",
       "Real Estate                                               5\n",
       "Food & Beverages                                          4\n",
       "Aerospace                                                 4\n",
       "Transportation                                            4\n",
       "Broadcasting                                              3\n",
       "Mining                                                    2\n",
       "Name: Industry, dtype: int64"
      ]
     },
     "execution_count": 268,
     "metadata": {},
     "output_type": "execute_result"
    }
   ],
   "source": [
    "df[\"Industry\"].value_counts()"
   ]
  },
  {
   "cell_type": "code",
   "execution_count": 271,
   "id": "7ab4ce6d",
   "metadata": {},
   "outputs": [],
   "source": [
    "df.to_csv(\"ransomware_combined_cleaned.csv\", header=True, index=False)"
   ]
  },
  {
   "cell_type": "code",
   "execution_count": null,
   "id": "e16c8870",
   "metadata": {},
   "outputs": [],
   "source": []
  }
 ],
 "metadata": {
  "kernelspec": {
   "display_name": "Python 3",
   "language": "python",
   "name": "python3"
  },
  "language_info": {
   "codemirror_mode": {
    "name": "ipython",
    "version": 3
   },
   "file_extension": ".py",
   "mimetype": "text/x-python",
   "name": "python",
   "nbconvert_exporter": "python",
   "pygments_lexer": "ipython3",
   "version": "3.9.7"
  }
 },
 "nbformat": 4,
 "nbformat_minor": 5
}
