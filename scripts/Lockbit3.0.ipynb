{
 "cells": [
  {
   "cell_type": "code",
   "execution_count": 1,
   "metadata": {},
   "outputs": [],
   "source": [
    "# Importing modules\n",
    "\n",
    "import socks\n",
    "import socket\n",
    "import requests\n",
    "import codecs\n",
    "from bs4 import BeautifulSoup"
   ]
  },
  {
   "cell_type": "markdown",
   "metadata": {},
   "source": [
    "## Data Extraction from HTML"
   ]
  },
  {
   "cell_type": "code",
   "execution_count": 18,
   "metadata": {},
   "outputs": [],
   "source": [
    "file = codecs.open(\"../raw-html/lockbit.html\", \"r\", \"utf-8\")\n",
    "  \n",
    "# Reading the file\n",
    "index = file.read()\n",
    "  \n",
    "# Creating a BeautifulSoup object and specifying the parser\n",
    "soup = BeautifulSoup(index, 'lxml')"
   ]
  },
  {
   "cell_type": "code",
   "execution_count": null,
   "metadata": {},
   "outputs": [],
   "source": [
    "# Printing html code of body tag\n",
    "print(soup.body.prettify())"
   ]
  },
  {
   "cell_type": "markdown",
   "metadata": {},
   "source": [
    "## Data Cleaning"
   ]
  },
  {
   "cell_type": "code",
   "execution_count": null,
   "metadata": {},
   "outputs": [],
   "source": [
    "# Obtaining all posts\n",
    "ransomware_posts = soup.find_all(\"div\", {\"class\": \"post-block bad\"})\n",
    "print(ransomware_posts)"
   ]
  },
  {
   "cell_type": "markdown",
   "metadata": {},
   "source": [
    "### Titles"
   ]
  },
  {
   "cell_type": "code",
   "execution_count": null,
   "metadata": {},
   "outputs": [],
   "source": [
    "post_titles_tag = soup.find_all(\"div\", {\"class\": \"post-title\"})\n",
    "post_titles = [tag.text.strip() for tag in post_titles_tag]\n",
    "print(post_titles)"
   ]
  },
  {
   "cell_type": "markdown",
   "metadata": {},
   "source": [
    "### Descriptions"
   ]
  },
  {
   "cell_type": "code",
   "execution_count": null,
   "metadata": {},
   "outputs": [],
   "source": [
    "post_desc_tag = soup.find_all(\"div\", {\"class\": \"post-block-text\"})\n",
    "post_desc = [tag.text.strip() for tag in post_desc_tag]\n",
    "post_desc = [desc.replace('\\r\\n', ' ').replace('\\r\\n\\r', ' ') for desc in post_desc]\n",
    "print(post_desc)"
   ]
  },
  {
   "cell_type": "markdown",
   "metadata": {},
   "source": [
    "### Dates"
   ]
  },
  {
   "cell_type": "code",
   "execution_count": null,
   "metadata": {},
   "outputs": [],
   "source": [
    "post_date_tag = soup.find_all(\"div\", {\"class\": \"updated-post-date\"})\n",
    "post_date = [tag.text.strip() for tag in post_date_tag]\n",
    "post_date = [tag.replace('\\xa0\\xa0', '').replace('Updated: ', '') for tag in post_date]\n",
    "print(post_date)"
   ]
  },
  {
   "cell_type": "markdown",
   "metadata": {},
   "source": [
    "### Views"
   ]
  },
  {
   "cell_type": "code",
   "execution_count": null,
   "metadata": {},
   "outputs": [],
   "source": [
    "post_views_tag = soup.find_all(\"span\", {\"style\": \"font-size: 12px; font-weight: bold\"})\n",
    "post_views = [tag.text.strip() for tag in post_views_tag]\n",
    "print(post_views)"
   ]
  },
  {
   "cell_type": "code",
   "execution_count": 45,
   "metadata": {},
   "outputs": [
    {
     "name": "stdout",
     "output_type": "stream",
     "text": [
      "True\n"
     ]
    }
   ],
   "source": [
    "# Verify all are extracted\n",
    "print(len(post_titles) == len(post_desc) == len(post_date) == len(post_views))"
   ]
  },
  {
   "cell_type": "code",
   "execution_count": 66,
   "metadata": {},
   "outputs": [],
   "source": [
    "import pandas as pd\n",
    "import numpy as np\n",
    "\n",
    "df = pd.DataFrame(columns=['Company Name', 'Location', 'Industry', 'Post Title', 'Description', 'Post Date', 'Post Views'])\n",
    "df['Post Title'] = post_titles\n",
    "df['Description'] = post_desc\n",
    "df['Post Date'] = post_date\n",
    "df['Post Views'] = post_views\n",
    "\n",
    "df\n",
    "df.to_csv('Lockbit2.csv')"
   ]
  },
  {
   "cell_type": "code",
   "execution_count": 5,
   "metadata": {},
   "outputs": [
    {
     "data": {
      "text/html": [
       "<div>\n",
       "<style scoped>\n",
       "    .dataframe tbody tr th:only-of-type {\n",
       "        vertical-align: middle;\n",
       "    }\n",
       "\n",
       "    .dataframe tbody tr th {\n",
       "        vertical-align: top;\n",
       "    }\n",
       "\n",
       "    .dataframe thead th {\n",
       "        text-align: right;\n",
       "    }\n",
       "</style>\n",
       "<table border=\"1\" class=\"dataframe\">\n",
       "  <thead>\n",
       "    <tr style=\"text-align: right;\">\n",
       "      <th></th>\n",
       "      <th>Unnamed: 0</th>\n",
       "      <th>Company Name</th>\n",
       "      <th>Location</th>\n",
       "      <th>Industry</th>\n",
       "      <th>Post Title</th>\n",
       "      <th>Description</th>\n",
       "      <th>Post Date</th>\n",
       "      <th>Post Views</th>\n",
       "    </tr>\n",
       "  </thead>\n",
       "  <tbody>\n",
       "    <tr>\n",
       "      <td>0</td>\n",
       "      <td>0</td>\n",
       "      <td>NaN</td>\n",
       "      <td>NaN</td>\n",
       "      <td>NaN</td>\n",
       "      <td>parrottsims.com</td>\n",
       "      <td>We are a full-service law firm providing our c...</td>\n",
       "      <td>24 Sep, 2022, 00:03 UTC</td>\n",
       "      <td>346</td>\n",
       "    </tr>\n",
       "    <tr>\n",
       "      <td>1</td>\n",
       "      <td>1</td>\n",
       "      <td>NaN</td>\n",
       "      <td>NaN</td>\n",
       "      <td>NaN</td>\n",
       "      <td>rbroof.com</td>\n",
       "      <td>Phone Number: (888) 260-3947  Owners phone num...</td>\n",
       "      <td>23 Sep, 2022, 15:21 UTC</td>\n",
       "      <td>243</td>\n",
       "    </tr>\n",
       "    <tr>\n",
       "      <td>2</td>\n",
       "      <td>2</td>\n",
       "      <td>NaN</td>\n",
       "      <td>NaN</td>\n",
       "      <td>NaN</td>\n",
       "      <td>ch-sf.fr</td>\n",
       "      <td>We present to you the French clinic. CH-SF.FR ...</td>\n",
       "      <td>23 Sep, 2022, 12:19 UTC</td>\n",
       "      <td>2134</td>\n",
       "    </tr>\n",
       "    <tr>\n",
       "      <td>3</td>\n",
       "      <td>3</td>\n",
       "      <td>NaN</td>\n",
       "      <td>NaN</td>\n",
       "      <td>NaN</td>\n",
       "      <td>congerbuilt.com</td>\n",
       "      <td>When Larry Conger founded Conger Construction ...</td>\n",
       "      <td>22 Sep, 2022, 23:20 UTC</td>\n",
       "      <td>263</td>\n",
       "    </tr>\n",
       "    <tr>\n",
       "      <td>4</td>\n",
       "      <td>4</td>\n",
       "      <td>NaN</td>\n",
       "      <td>NaN</td>\n",
       "      <td>NaN</td>\n",
       "      <td>thorguard.com</td>\n",
       "      <td>THOR GUARD began manufacturing Lightning Predi...</td>\n",
       "      <td>22 Sep, 2022, 23:05 UTC</td>\n",
       "      <td>274</td>\n",
       "    </tr>\n",
       "  </tbody>\n",
       "</table>\n",
       "</div>"
      ],
      "text/plain": [
       "   Unnamed: 0  Company Name  Location  Industry       Post Title  \\\n",
       "0           0           NaN       NaN       NaN  parrottsims.com   \n",
       "1           1           NaN       NaN       NaN       rbroof.com   \n",
       "2           2           NaN       NaN       NaN         ch-sf.fr   \n",
       "3           3           NaN       NaN       NaN  congerbuilt.com   \n",
       "4           4           NaN       NaN       NaN    thorguard.com   \n",
       "\n",
       "                                         Description                Post Date  \\\n",
       "0  We are a full-service law firm providing our c...  24 Sep, 2022, 00:03 UTC   \n",
       "1  Phone Number: (888) 260-3947  Owners phone num...  23 Sep, 2022, 15:21 UTC   \n",
       "2  We present to you the French clinic. CH-SF.FR ...  23 Sep, 2022, 12:19 UTC   \n",
       "3  When Larry Conger founded Conger Construction ...  22 Sep, 2022, 23:20 UTC   \n",
       "4  THOR GUARD began manufacturing Lightning Predi...  22 Sep, 2022, 23:05 UTC   \n",
       "\n",
       "   Post Views  \n",
       "0         346  \n",
       "1         243  \n",
       "2        2134  \n",
       "3         263  \n",
       "4         274  "
      ]
     },
     "execution_count": 5,
     "metadata": {},
     "output_type": "execute_result"
    }
   ],
   "source": [
    "import pandas as pd\n",
    "\n",
    "df = pd.read_csv('../csv-data/Lockbit2.csv')\n",
    "df.head()"
   ]
  },
  {
   "cell_type": "markdown",
   "metadata": {},
   "source": [
    "## Selenium automation"
   ]
  },
  {
   "cell_type": "code",
   "execution_count": 17,
   "metadata": {},
   "outputs": [],
   "source": [
    "import time\n",
    "from selenium import webdriver\n",
    "from selenium.webdriver.chrome.service import Service\n",
    "from webdriver_manager.chrome import ChromeDriverManager\n",
    "from selenium.webdriver.common.by import By\n",
    "from selenium.webdriver.common.keys import Keys"
   ]
  },
  {
   "cell_type": "markdown",
   "metadata": {},
   "source": [
    "### Searching data from Glassdoor"
   ]
  },
  {
   "cell_type": "code",
   "execution_count": 86,
   "metadata": {},
   "outputs": [
    {
     "name": "stderr",
     "output_type": "stream",
     "text": [
      "D:\\ProgramFiles\\Anaconda3\\lib\\site-packages\\ipykernel_launcher.py:34: SettingWithCopyWarning: \n",
      "A value is trying to be set on a copy of a slice from a DataFrame\n",
      "\n",
      "See the caveats in the documentation: http://pandas.pydata.org/pandas-docs/stable/user_guide/indexing.html#returning-a-view-versus-a-copy\n",
      "D:\\ProgramFiles\\Anaconda3\\lib\\site-packages\\ipykernel_launcher.py:40: SettingWithCopyWarning: \n",
      "A value is trying to be set on a copy of a slice from a DataFrame\n",
      "\n",
      "See the caveats in the documentation: http://pandas.pydata.org/pandas-docs/stable/user_guide/indexing.html#returning-a-view-versus-a-copy\n",
      "D:\\ProgramFiles\\Anaconda3\\lib\\site-packages\\ipykernel_launcher.py:43: SettingWithCopyWarning: \n",
      "A value is trying to be set on a copy of a slice from a DataFrame\n",
      "\n",
      "See the caveats in the documentation: http://pandas.pydata.org/pandas-docs/stable/user_guide/indexing.html#returning-a-view-versus-a-copy\n"
     ]
    },
    {
     "name": "stdout",
     "output_type": "stream",
     "text": [
      "200:  Cabbage, Sheffield Village, OH, Wholesale\n",
      "201:  A2 Consulting, -, -\n",
      "202:  Genus plc, Basingstoke, United Kingdom, Biotech & Pharmaceuticals\n",
      "203:  Vytelle, Hermiston, OR, -\n",
      "none\n",
      "205:  Export Trading Group (ETG), Dar es Salaam, Tanzania, Wholesale\n",
      "206:  Lonseal, Carson, CA, Consumer Product Manufacturing\n",
      "207:  Metro Appliances & More, Jonesboro, AR, Consumer Electronics & Appliances Stores\n",
      "208:  Carn Brea Leisure Centre, Redruth, United Kingdom, -\n",
      "209:  AXELLIUM, Rennes, France, -\n",
      "210:  Sigma, San Pedro Garza García, Mexico, Food & Beverage Manufacturing\n",
      "none\n",
      "none\n",
      "none\n",
      "none\n"
     ]
    }
   ],
   "source": [
    "options = webdriver.ChromeOptions()\n",
    "options.add_argument('--disable-blink-features=AutomationControlled') \n",
    "options.add_argument(\"enable-automation\");\n",
    "# options.add_argument(\"--headless\");\n",
    "options.add_argument(\"--no-sandbox\");\n",
    "options.add_argument(\"--disable-extensions\");\n",
    "options.add_argument(\"--dns-prefetch-disable\");\n",
    "options.add_argument(\"--disable-gpu\");\n",
    "\n",
    "path = 'D:/Downloads/chromedriver'\n",
    "driver = webdriver.Chrome(options=options, executable_path=path)\n",
    "\n",
    "for i in range(len(df)):\n",
    "    try:\n",
    "        company = df['Post Title'][i]\n",
    "        driver.get('https://www.google.com')\n",
    "        search = driver.find_element(By.NAME, 'q')\n",
    "        search.send_keys(company + ' glassdoor \"overview\"')\n",
    "        search.send_keys(Keys.RETURN)\n",
    "        if i == 200: time.sleep(20)\n",
    "        glassdoor_page = driver.find_element_by_tag_name('h3') # clicking the first search result\n",
    "        glassdoor_page.click()\n",
    "        \n",
    "        if \"glassdoor\" not in driver.current_url:\n",
    "            print('none')\n",
    "            continue\n",
    "        \n",
    "        pagesource = driver.page_source\n",
    "        soup = BeautifulSoup(pagesource, 'html.parser')\n",
    "        company_name = company_location = company_industry = '-'\n",
    "        \n",
    "        name = soup.find(id='DivisionsDropdownComponent')\n",
    "        company_name = name.text\n",
    "        df['Company Name'][i] = company_name\n",
    "        \n",
    "        labels = soup.find_all('label')\n",
    "        for label in labels:\n",
    "            if label.text == \"Headquarters:\":\n",
    "                company_location = label.next_sibling.text\n",
    "                df['Location'][i] = company_location\n",
    "            elif (label.text == \"Industry:\"):\n",
    "                company_industry = label.next_sibling.text\n",
    "                df['Industry'][i] = company_industry\n",
    "\n",
    "        print(f'{i}: {company_name}, {company_location}, {company_industry}')\n",
    "        \n",
    "    except:\n",
    "        print(\"none\")\n",
    "    \n",
    "driver.quit()"
   ]
  },
  {
   "cell_type": "code",
   "execution_count": 87,
   "metadata": {},
   "outputs": [],
   "source": [
    "df.to_csv('lockbit_data.csv')"
   ]
  },
  {
   "cell_type": "markdown",
   "metadata": {},
   "source": [
    "### Searching data from zoominfo"
   ]
  },
  {
   "cell_type": "code",
   "execution_count": null,
   "metadata": {},
   "outputs": [],
   "source": [
    "for i in range(15, 20):\n",
    "    try:        \n",
    "        driver.get('https://www.google.com')\n",
    "        header = df['Post Title'][i]\n",
    "        \n",
    "        search = driver.find_element(By.NAME, 'q')\n",
    "        search.send_keys(header + ' zoominfo')\n",
    "        search.send_keys(Keys.RETURN)\n",
    "        glassdoor_page = driver.find_element_by_tag_name('h3') # clicking the first search result\n",
    "        glassdoor_page.click()\n",
    "\n",
    "        if \"zoominfo\" in driver.current_url:\n",
    "            company = driver.find_element_by_tag_name('h1')\n",
    "            company_name = company.text\n",
    "\n",
    "            company_info = driver.find_element_by_class_name('company-header-subtitle')\n",
    "            company_info = company_info.text\n",
    "            company_info_list = company_info.split(' · ')\n",
    "\n",
    "            company_industry = company_info_list[0]\n",
    "            company_location = company_info_list[1]   \n",
    "\n",
    "            df['Company Name'][i] = company_name\n",
    "            df['Location'][i] = company_location\n",
    "            df['Industry'][i] = company_industry\n",
    "\n",
    "    except Exception as e:\n",
    "        print(e)\n",
    "    \n",
    "driver.quit()\n",
    "df.head(20)"
   ]
  },
  {
   "cell_type": "code",
   "execution_count": null,
   "metadata": {},
   "outputs": [],
   "source": []
  }
 ],
 "metadata": {
  "kernelspec": {
   "display_name": "Python 3",
   "language": "python",
   "name": "python3"
  },
  "language_info": {
   "codemirror_mode": {
    "name": "ipython",
    "version": 3
   },
   "file_extension": ".py",
   "mimetype": "text/x-python",
   "name": "python",
   "nbconvert_exporter": "python",
   "pygments_lexer": "ipython3",
   "version": "3.7.4"
  }
 },
 "nbformat": 4,
 "nbformat_minor": 2
}
